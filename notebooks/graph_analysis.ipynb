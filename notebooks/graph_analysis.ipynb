{
 "cells": [
  {
   "cell_type": "code",
   "execution_count": 5,
   "metadata": {},
   "outputs": [],
   "source": [
    "import sys\n",
    "sys.path.append('../src')\n",
    "\n",
    "from graph_model import load_topic_frequencies, keep_top_n_topics, create_user_user_graph, connect_on_IOU\n",
    "from analyze_graphs import configuration_model, modularity_communities, top_down_communities, extract_topics_from_community\n",
    "from analyze_graphs import community_topic_evolution, sample_topics, compute_betweenness_graph, compute_community_betweenness, determine_prototype\n",
    "from utils import plot_graph, get_literal_topics, create_topic_map, load_graph"
   ]
  },
  {
   "cell_type": "code",
   "execution_count": 6,
   "metadata": {},
   "outputs": [],
   "source": [
    "# Define data paths\n",
    "user_topic_graph_path = \"../data/processed/author_topic_long.txt\"\n",
    "topic_freqs_path = \"../data/processed/topic_freq_long.txt\"\n",
    "user_user_graph_path = \"../data/processed/user_user_long.txt\"\n",
    "topics_path = \"../data/processed/topics_long.txt\""
   ]
  },
  {
   "cell_type": "markdown",
   "metadata": {},
   "source": [
    "## Create user-topic and user-user graphs"
   ]
  },
  {
   "cell_type": "code",
   "execution_count": 7,
   "metadata": {},
   "outputs": [
    {
     "name": "stdout",
     "output_type": "stream",
     "text": [
      "Number of nodes: 139292\n",
      "Number of edges: 3634301\n"
     ]
    }
   ],
   "source": [
    "# Create user-topic graph\n",
    "user_topic_graph = load_graph(user_topic_graph_path)\n",
    "topic_freqs = load_topic_frequencies(topic_freqs_path)\n",
    "# Keep only top n topics in graph\n",
    "user_topic_graph = keep_top_n_topics(user_topic_graph, topic_freqs, n=20)"
   ]
  },
  {
   "cell_type": "code",
   "execution_count": 9,
   "metadata": {},
   "outputs": [
    {
     "name": "stdout",
     "output_type": "stream",
     "text": [
      "Number of nodes: 2991\n",
      "Number of edges: 4134418\n"
     ]
    }
   ],
   "source": [
    "# Create use-user graph\n",
    "# user_user_graph = create_user_user_graph(user_topic_graph, connect_on_IOU, out_filename=user_user_graph_path)\n",
    "user_user_graph = load_graph(user_user_graph_path)"
   ]
  },
  {
   "cell_type": "code",
   "execution_count": null,
   "metadata": {},
   "outputs": [],
   "source": [
    "# Draw crude graph\n",
    "plot_graph(user_user_graph)"
   ]
  },
  {
   "cell_type": "code",
   "execution_count": null,
   "metadata": {},
   "outputs": [],
   "source": [
    "# Load configuration model graph\n",
    "config_user_user_graph = configuration_model(user_user_graph)"
   ]
  },
  {
   "cell_type": "code",
   "execution_count": null,
   "metadata": {},
   "outputs": [],
   "source": [
    "# Draw crude config graph\n",
    "plot_graph(config_user_user_graph)"
   ]
  },
  {
   "cell_type": "markdown",
   "metadata": {},
   "source": [
    "### Detect communities in user-user graph"
   ]
  },
  {
   "cell_type": "code",
   "execution_count": 10,
   "metadata": {},
   "outputs": [
    {
     "name": "stdout",
     "output_type": "stream",
     "text": [
      "2 communities\n"
     ]
    }
   ],
   "source": [
    "# Compute modularity-maximizing communities for user-user graph\n",
    "mod_communities = modularity_communities(user_user_graph)\n",
    "num_communities = len(mod_communities)\n",
    "print(\"{} communities\".format(num_communities))"
   ]
  },
  {
   "cell_type": "code",
   "execution_count": null,
   "metadata": {},
   "outputs": [],
   "source": [
    "# Plot communities\n",
    "plot_graph(user_user_graph, mod_communities)"
   ]
  },
  {
   "cell_type": "code",
   "execution_count": null,
   "metadata": {},
   "outputs": [],
   "source": [
    "# Compute modularity-maximizing communities for config graph\n",
    "config_mod_communities = modularity_communities(config_user_user_graph)\n",
    "config_num_communities = len(config_mod_communities)\n",
    "print(\"{} communities\".format(config_num_communities))"
   ]
  },
  {
   "cell_type": "code",
   "execution_count": null,
   "metadata": {},
   "outputs": [],
   "source": [
    "# Measure betweenness of each community\n",
    "graph_betweenness = compute_betweenness_graph(user_user_graph)"
   ]
  },
  {
   "cell_type": "code",
   "execution_count": null,
   "metadata": {},
   "outputs": [],
   "source": [
    "for community in mod_communities:\n",
    "    # Compute betweenness of community\n",
    "    community_betweenness = compute_community_betweenness(graph_betweenness, community)\n",
    "    print(\"Community Betweenness: {}\".format(community_betweenness))\n",
    "    # Extract top topics\n",
    "    topic_scores = extract_topics_from_community(user_topic_graph, community)\n",
    "    top_topics = sample_topics(topic_scores, n=10)\n",
    "    print(\"Top 10 topics: {}\".format(top_topics))"
   ]
  },
  {
   "cell_type": "markdown",
   "metadata": {},
   "source": [
    "### Analyze communities"
   ]
  },
  {
   "cell_type": "code",
   "execution_count": null,
   "metadata": {},
   "outputs": [],
   "source": []
  },
  {
   "cell_type": "code",
   "execution_count": null,
   "metadata": {},
   "outputs": [],
   "source": []
  },
  {
   "cell_type": "code",
   "execution_count": null,
   "metadata": {},
   "outputs": [],
   "source": []
  }
 ],
 "metadata": {
  "kernelspec": {
   "display_name": "Python 3",
   "language": "python",
   "name": "python3"
  },
  "language_info": {
   "codemirror_mode": {
    "name": "ipython",
    "version": 3
   },
   "file_extension": ".py",
   "mimetype": "text/x-python",
   "name": "python",
   "nbconvert_exporter": "python",
   "pygments_lexer": "ipython3",
   "version": "3.6.4"
  }
 },
 "nbformat": 4,
 "nbformat_minor": 2
}
