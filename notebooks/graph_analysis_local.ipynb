{
 "cells": [
  {
   "cell_type": "code",
   "execution_count": 15,
   "metadata": {},
   "outputs": [],
   "source": [
    "import sys\n",
    "sys.path.append('../src')\n",
    "\n",
    "from graph_model import load_topic_frequencies, keep_top_n_topics, create_user_user_graph, connect_on_IOU\n",
    "from analyze_graphs import configuration_model, modularity_communities, top_down_communities, extract_topics_from_community\n",
    "from analyze_graphs import community_topic_evolution, sample_topics, compute_betweenness_graph, compute_community_betweenness, determine_prototype\n",
    "from utils import plot_graph, get_literal_topics, create_topic_map, load_graph, save_graph"
   ]
  },
  {
   "cell_type": "code",
   "execution_count": 16,
   "metadata": {},
   "outputs": [],
   "source": [
    "# Define data paths\n",
    "# Long\n",
    "# user_topic_graph_path = \"../data/processed/author_topic_long.txt\"\n",
    "# user_topic_graph_reduced_path = \"../data/processed/author_topic_reduced_long.txt\"\n",
    "# topic_freqs_path = \"../data/processed/topic_freq_long.txt\"\n",
    "# user_user_graph_path = \"../data/processed/user_user_long.txt\"\n",
    "# topics_path = \"../data/processed/topics_long.txt\"\n",
    "\n",
    "# Small\n",
    "# user_topic_graph_path = \"../data/processed/author_topic_small.txt\"\n",
    "# user_topic_graph_reduced_path = \"../data/processed/author_topic_reduced_small.txt\"\n",
    "# topic_freqs_path = \"../data/processed/topic_freq_small.txt\"\n",
    "# user_user_graph_path = \"../data/processed/user_user_small.txt\"\n",
    "# topics_path = \"../data/processed/topics_small.txt\"\n",
    "\n",
    "# Medium\n",
    "user_topic_graph_path = \"../data/processed/author_topic_medium.txt\"\n",
    "user_topic_graph_reduced_path = \"../data/processed/author_topic_reduced_medium.txt\"\n",
    "topic_freqs_path = \"../data/processed/topic_freq_medium.txt\"\n",
    "user_user_graph_path = \"../data/processed/user_user_medium.txt\"\n",
    "topics_path = \"../data/processed/topics_medium.txt\""
   ]
  },
  {
   "cell_type": "markdown",
   "metadata": {},
   "source": [
    "## Create user-topic and user-user graphs"
   ]
  },
  {
   "cell_type": "code",
   "execution_count": 17,
   "metadata": {},
   "outputs": [
    {
     "name": "stdout",
     "output_type": "stream",
     "text": [
      "Number of nodes: 74902\n",
      "Number of edges: 1208000\n"
     ]
    }
   ],
   "source": [
    "# Create user-topic graph\n",
    "user_topic_graph = load_graph(user_topic_graph_path)\n",
    "topic_freqs = load_topic_frequencies(topic_freqs_path)\n",
    "# Keep only top n topics in graph\n",
    "user_topic_graph = keep_top_n_topics(user_topic_graph, topic_freqs, n=200)\n",
    "save_graph(user_topic_graph, user_topic_graph_reduced_path)\n",
    "\n",
    "# Load user-topic graph\n",
    "# user_topic_graph = load_graph(user_topic_graph_reduced_path)"
   ]
  },
  {
   "cell_type": "code",
   "execution_count": 18,
   "metadata": {},
   "outputs": [
    {
     "name": "stdout",
     "output_type": "stream",
     "text": [
      "Number of nodes: 1000\n",
      "Number of edges: 340079\n"
     ]
    }
   ],
   "source": [
    "# Create use-user graph\n",
    "user_user_graph = create_user_user_graph(user_topic_graph, connect_on_IOU, out_filename=user_user_graph_path)\n",
    "# user_user_graph = load_graph(user_user_graph_path)"
   ]
  },
  {
   "cell_type": "code",
   "execution_count": null,
   "metadata": {},
   "outputs": [],
   "source": [
    "# Draw crude graph\n",
    "plot_graph(user_user_graph)"
   ]
  },
  {
   "cell_type": "code",
   "execution_count": null,
   "metadata": {},
   "outputs": [],
   "source": [
    "# Load configuration model graph\n",
    "config_user_user_graph = configuration_model(user_user_graph)"
   ]
  },
  {
   "cell_type": "code",
   "execution_count": null,
   "metadata": {},
   "outputs": [],
   "source": [
    "# Draw crude config graph\n",
    "plot_graph(config_user_user_graph)"
   ]
  },
  {
   "cell_type": "markdown",
   "metadata": {},
   "source": [
    "### Detect communities in user-user graph"
   ]
  },
  {
   "cell_type": "code",
   "execution_count": 19,
   "metadata": {},
   "outputs": [
    {
     "name": "stdout",
     "output_type": "stream",
     "text": [
      "2 communities\n",
      "Community sizes: [543, 375]\n"
     ]
    }
   ],
   "source": [
    "# Compute modularity-maximizing communities for user-user graph\n",
    "mod_communities = modularity_communities(user_user_graph)\n",
    "# Remove communities smaller than n\n",
    "community_size_thresh = 2\n",
    "mod_communities = list(filter(lambda c: len(c) > community_size_thresh, mod_communities))\n",
    "num_communities = len(mod_communities)\n",
    "print(\"{} communities\".format(num_communities))\n",
    "print(\"Community sizes: {}\".format(list(map(lambda c: len(c), mod_communities))))"
   ]
  },
  {
   "cell_type": "code",
   "execution_count": null,
   "metadata": {},
   "outputs": [],
   "source": [
    "# Plot communities\n",
    "plot_graph(user_user_graph, mod_communities)"
   ]
  },
  {
   "cell_type": "code",
   "execution_count": null,
   "metadata": {},
   "outputs": [],
   "source": [
    "# Compute modularity-maximizing communities for config graph\n",
    "config_mod_communities = modularity_communities(config_user_user_graph)\n",
    "config_num_communities = len(config_mod_communities)\n",
    "print(\"{} communities\".format(config_num_communities))"
   ]
  },
  {
   "cell_type": "markdown",
   "metadata": {},
   "source": [
    "### Analyze Modularity Communities"
   ]
  },
  {
   "cell_type": "code",
   "execution_count": 20,
   "metadata": {},
   "outputs": [
    {
     "name": "stdout",
     "output_type": "stream",
     "text": [
      "Samples per community: 250\n",
      "{1, 5, 6, 7, 8, 12, 16, 21, 22, 23, 25, 26, 27, 28, 33, 34, 36, 38, 40, 41, 42, 43, 44, 45, 46, 48, 49, 50, 51, 54, 57, 60, 65, 66, 69, 70, 71, 72, 73, 80, 81, 83, 87, 88, 89, 90, 91, 92, 94, 96, 99, 100, 101, 102, 105, 107, 108, 109, 110, 118, 123, 128, 131, 132, 133, 138, 139, 141, 142, 144, 146, 147, 148, 150, 151, 152, 154, 157, 159, 160, 161, 163, 164, 165, 166, 169, 170, 171, 172, 175, 179, 183, 186, 187, 188, 189, 190, 191, 194, 208, 209, 210, 212, 213, 214, 215, 218, 220, 221, 222, 225, 227, 228, 236, 237, 239, 240, 244, 245, 246, 248, 258, 259, 261, 264, 266, 267, 269, 271, 272, 275, 277, 278, 279, 280, 282, 283, 284, 285, 287, 289, 290, 292, 294, 295, 297, 300, 302, 303, 304, 306, 307, 308, 309, 311, 312, 314, 315, 316, 317, 319, 321, 323, 324, 327, 329, 330, 332, 336, 337, 341, 344, 345, 348, 351, 353, 354, 355, 359, 360, 361, 365, 368, 369, 370, 372, 373, 374, 375, 380, 384, 387, 388, 389, 390, 393, 394, 395, 396, 398, 401, 402, 407, 410, 412, 413, 414, 415, 416, 418, 420, 423, 426, 428, 429, 430, 431, 432, 434, 438, 440, 445, 446, 447, 448, 450, 453, 454, 458, 459, 461, 465, 466, 469, 470, 471, 472, 473, 474, 476, 479, 480, 481, 482, 488, 490, 491, 492, 494, 495, 497, 500, 501, 502, 503, 506, 512, 517, 519, 520, 522, 523, 531, 532, 533, 534, 536, 540, 541, 542, 545, 546, 548, 549, 550, 552, 554, 557, 559, 561, 566, 567, 570, 572, 574, 575, 576, 577, 578, 579, 586, 591, 592, 594, 595, 597, 598, 601, 604, 609, 612, 613, 614, 616, 617, 619, 620, 621, 624, 626, 629, 634, 636, 638, 639, 640, 641, 643, 645, 648, 651, 652, 653, 655, 657, 658, 661, 665, 666, 672, 674, 680, 681, 683, 687, 688, 689, 692, 693, 696, 697, 698, 703, 705, 707, 709, 710, 711, 712, 713, 715, 719, 726, 727, 728, 729, 731, 732, 734, 735, 736, 737, 739, 740, 741, 742, 743, 744, 745, 748, 749, 752, 753, 754, 756, 758, 759, 760, 761, 762, 764, 765, 773, 777, 778, 781, 783, 787, 788, 789, 790, 794, 796, 797, 798, 799, 800, 803, 804, 805, 806, 807, 810, 811, 815, 816, 818, 819, 821, 822, 824, 825, 827, 828, 832, 834, 836, 837, 838, 840, 842, 848, 851, 852, 853, 855, 856, 858, 863, 865, 869, 870, 873, 874, 875, 876, 877, 880, 882, 883, 884, 886, 887, 888, 889, 890, 891, 897, 898, 901, 902, 904, 906, 907, 909, 910, 911, 912, 913, 914, 921, 924, 926, 927, 928, 929, 932, 933, 936, 938, 940, 941, 942, 943, 946, 947, 949, 950, 951, 954, 958, 959, 960, 962, 964, 968, 969, 970, 974, 978, 980, 981, 984, 986, 987, 988, 989, 991, 993, 994, 995}\n"
     ]
    }
   ],
   "source": [
    "# Measure betweenness of each community\n",
    "graph_betweenness = compute_betweenness_graph(user_user_graph, mod_communities)"
   ]
  },
  {
   "cell_type": "code",
   "execution_count": 21,
   "metadata": {},
   "outputs": [],
   "source": [
    "# Create topic map\n",
    "topic_map = create_topic_map(topics_path)"
   ]
  },
  {
   "cell_type": "code",
   "execution_count": null,
   "metadata": {
    "scrolled": false
   },
   "outputs": [
    {
     "name": "stdout",
     "output_type": "stream",
     "text": [
      "Community Betweenness: 24.779351248161863\n",
      "Prototype has 10 topics: [\"('amount', '+')\", \"('income', '+')\", \"('help', '+')\", \"('support', '+')\", \"('lot', '+')\", \"('tax', '+')\", \"('everyone', '+')\", \"('law', '+')\", \"('country', '+')\", \"('problem', '+')\"]\n",
      "Top 10 topics: [\"('please', '+')\", \"('statement', '+')\", \"('information', '+')\", \"('campaign', '+')\", \"('congress', '-')\", \"('court', '-')\", \"('freedom', '+')\", \"('wage', '-')\", \"('election', '-')\", \"('comment', '+')\", \"('market', '-')\", \"('bill', '-')\", \"('force', '-')\", \"('argument', '+')\", \"('evidence', '+')\", \"('society', '-')\", \"('source', '+')\", \"('insurance', '-')\", \"('education', '+')\", \"('interest', '+')\"]\n",
      "Community Betweenness: 37.066889162124816\n",
      "Prototype has 10 topics: [\"('government', '-')\", \"('problem', '-')\", \"('hell', '-')\", \"('bill', '-')\", \"('pay', '-')\", \"('anyone', '-')\", \"('law', '-')\", \"('world', '-')\", \"('business', '-')\", \"('health', '-')\"]\n",
      "Top 10 topics: [\"('thank', '+')\", \"('feel', '+')\", \"('gop', '+')\", \"('amendment', '+')\", \"('reddit', '+')\", \"('campaign', '+')\", \"('statement', '+')\", \"('wage', '-')\", \"('police', '-')\", \"('information', '+')\", \"('one', '-')\", \"('court', '-')\", \"('market', '-')\", \"('society', '-')\", \"('kind', '-')\", \"('support', '-')\", \"('please', '+')\", \"('yeah', '+')\", \"('cost', '-')\", \"('claim', '-')\"]\n"
     ]
    }
   ],
   "source": [
    "for community in mod_communities:\n",
    "    # Compute betweenness of community\n",
    "    community_betweenness = compute_community_betweenness(graph_betweenness, community)\n",
    "    print(\"Community Betweenness: {}\".format(community_betweenness))\n",
    "    # Extract top topics\n",
    "    topic_scores = extract_topics_from_community(user_topic_graph, community)\n",
    "    top_topic_nodes = sample_topics(topic_scores, n=20)\n",
    "    top_topics = get_literal_topics(top_topic_nodes, topic_map)\n",
    "    # Find prototype and get its topics\n",
    "    prototype = determine_prototype(user_user_graph, community)\n",
    "    if prototype is not None:\n",
    "        prototype_topics = user_topic_graph.neighbors(prototype)\n",
    "        prototype_literals = get_literal_topics(prototype_topics, topic_map)\n",
    "    n = 10\n",
    "    print(\"Prototype has {} topics: {}\".format(n, prototype_literals[:n]))\n",
    "    print(\"Top 10 topics: {}\".format(top_topics))"
   ]
  },
  {
   "cell_type": "markdown",
   "metadata": {},
   "source": [
    "### Analyze communities over time"
   ]
  },
  {
   "cell_type": "code",
   "execution_count": null,
   "metadata": {},
   "outputs": [],
   "source": [
    "# Compute community levels\n",
    "community_levels = top_down_communities(user_user_graph, num_communities)"
   ]
  },
  {
   "cell_type": "code",
   "execution_count": null,
   "metadata": {},
   "outputs": [],
   "source": [
    "# Get community level evolution\n",
    "evolution = community_topic_evolution(community_levels, user_topic_graph, sample_n=None)"
   ]
  },
  {
   "cell_type": "code",
   "execution_count": null,
   "metadata": {},
   "outputs": [],
   "source": [
    "# Report evolution\n",
    "for i, level in enumerate(evolution):\n",
    "    print(\"Level {}:\".format(i+1))\n",
    "    for j, community_topic_scores in enumerate(level):\n",
    "        community_topics = sample_topics(community_topic_scores, n=10) \n",
    "        community_topics = get_literal_topics(community_topics, topic_map)\n",
    "        print(\"\\tTopics for community {}: {}\".format(j+1, community_topics))"
   ]
  },
  {
   "cell_type": "code",
   "execution_count": null,
   "metadata": {},
   "outputs": [],
   "source": []
  }
 ],
 "metadata": {
  "kernelspec": {
   "display_name": "Python 3",
   "language": "python",
   "name": "python3"
  },
  "language_info": {
   "codemirror_mode": {
    "name": "ipython",
    "version": 3
   },
   "file_extension": ".py",
   "mimetype": "text/x-python",
   "name": "python",
   "nbconvert_exporter": "python",
   "pygments_lexer": "ipython3",
   "version": "3.6.4"
  }
 },
 "nbformat": 4,
 "nbformat_minor": 2
}
